{
  "nbformat": 4,
  "nbformat_minor": 0,
  "metadata": {
    "colab": {
      "provenance": [],
      "authorship_tag": "ABX9TyPMJvGNFs8lUD4YW9fxYN/r",
      "include_colab_link": true
    },
    "kernelspec": {
      "name": "python3",
      "display_name": "Python 3"
    },
    "language_info": {
      "name": "python"
    }
  },
  "cells": [
    {
      "cell_type": "markdown",
      "metadata": {
        "id": "view-in-github",
        "colab_type": "text"
      },
      "source": [
        "<a href=\"https://colab.research.google.com/github/Nawin03-DS/ML-Project/blob/main/Basic_Project.ipynb\" target=\"_parent\"><img src=\"https://colab.research.google.com/assets/colab-badge.svg\" alt=\"Open In Colab\"/></a>"
      ]
    },
    {
      "cell_type": "code",
      "execution_count": 1,
      "metadata": {
        "id": "IcMEvRh6WtnX"
      },
      "outputs": [],
      "source": [
        "import numpy as np\n",
        "import matplotlib.pyplot as plt"
      ]
    },
    {
      "cell_type": "code",
      "source": [
        "# Sample data points\n",
        "x = np.array([0, 1, 2, 3, 4, 5, 6, 7, 8, 9])\n",
        "y = np.array([1, 3, 2, 5, 7, 8, 8, 9, 10, 12])"
      ],
      "metadata": {
        "id": "4OTDAErFW8vr"
      },
      "execution_count": 2,
      "outputs": []
    },
    {
      "cell_type": "code",
      "source": [
        "def estimate_coefficients(x, y):\n",
        "    n = np.size(x)\n",
        "\n",
        "    mean_x = np.mean(x)\n",
        "    mean_y = np.mean(y)\n",
        "\n",
        "    # Calculate cross-deviation and deviation about x\n",
        "    SS_xy = np.sum(y * x) - n * mean_y * mean_x\n",
        "    SS_xx = np.sum(x * x) - n * mean_x * mean_x\n",
        "\n",
        "    # Calculate regression coefficients\n",
        "    b_1 = SS_xy / SS_xx\n",
        "    b_0 = mean_y - b_1 * mean_x\n",
        "\n",
        "    return b_0, b_1"
      ],
      "metadata": {
        "id": "HuD0WbBGXR3N"
      },
      "execution_count": 3,
      "outputs": []
    },
    {
      "cell_type": "code",
      "source": [
        "def predict(x, b_0, b_1):\n",
        "    return b_0 + b_1 * x"
      ],
      "metadata": {
        "id": "bsq2MwA5XVml"
      },
      "execution_count": 4,
      "outputs": []
    },
    {
      "cell_type": "code",
      "source": [
        "# Estimate coefficients\n",
        "b_0, b_1 = estimate_coefficients(x, y)\n",
        "print(f\"Estimated coefficients:\\nb_0 (intercept): {b_0}\\nb_1 (slope): {b_1}\")\n",
        "\n",
        "# Predict values\n",
        "y_pred = predict(x, b_0, b_1)\n",
        "\n",
        "# Plotting\n",
        "plt.scatter(x, y, color=\"blue\", label=\"Actual data\")\n",
        "plt.plot(x, y_pred, color=\"red\", label=\"Regression line\")\n",
        "plt.xlabel('x')\n",
        "plt.ylabel('y')\n",
        "plt.legend()\n",
        "plt.show()"
      ],
      "metadata": {
        "colab": {
          "base_uri": "https://localhost:8080/",
          "height": 504
        },
        "id": "0gx95qDHXYbi",
        "outputId": "995baa12-ce5e-47bb-e5f3-69c289f74982"
      },
      "execution_count": 5,
      "outputs": [
        {
          "output_type": "stream",
          "name": "stdout",
          "text": [
            "Estimated coefficients:\n",
            "b_0 (intercept): 1.2363636363636363\n",
            "b_1 (slope): 1.1696969696969697\n"
          ]
        },
        {
          "output_type": "display_data",
          "data": {
            "text/plain": [
              "<Figure size 640x480 with 1 Axes>"
            ],
            "image/png": "[encoded data removed]"
          },
          "metadata": {}
        }
      ]
    },
    {
      "cell_type": "markdown",
      "source": [
        "**Project Overview**\n",
        "The goal of this project is to manually implement simple linear regression to understand the theory and mechanics behind this fundamental machine learning algorithm.\n",
        "\n",
        "Calculate the coefficients (slope and intercept) using the least squares method\n",
        "\n",
        "Make predictions on new data\n",
        "\n",
        "Visualize the regression line with the data points\n",
        "\n",
        "Evaluate the model performance by calculating metrics if desired"
      ],
      "metadata": {
        "id": "QMqqt23aXnwb"
      }
    }
  ]
}